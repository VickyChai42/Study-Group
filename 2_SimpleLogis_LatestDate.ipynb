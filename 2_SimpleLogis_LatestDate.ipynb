{
 "cells": [
  {
   "cell_type": "code",
   "execution_count": 3,
   "id": "fede5361",
   "metadata": {},
   "outputs": [],
   "source": [
    "import pandas as pd"
   ]
  },
  {
   "cell_type": "code",
   "execution_count": 4,
   "id": "13df7814",
   "metadata": {},
   "outputs": [],
   "source": [
    "train_data = pd.read_feather(\"train_data.ftr\")"
   ]
  },
  {
   "cell_type": "code",
   "execution_count": 5,
   "id": "f4f8eb8d",
   "metadata": {},
   "outputs": [
    {
     "data": {
      "text/plain": [
       "(5531451, 190)"
      ]
     },
     "execution_count": 5,
     "metadata": {},
     "output_type": "execute_result"
    }
   ],
   "source": [
    "train_data.head()\n",
    "train_data.shape"
   ]
  },
  {
   "cell_type": "code",
   "execution_count": 6,
   "id": "a25b3f29",
   "metadata": {},
   "outputs": [
    {
     "data": {
      "text/html": [
       "<div>\n",
       "<style scoped>\n",
       "    .dataframe tbody tr th:only-of-type {\n",
       "        vertical-align: middle;\n",
       "    }\n",
       "\n",
       "    .dataframe tbody tr th {\n",
       "        vertical-align: top;\n",
       "    }\n",
       "\n",
       "    .dataframe thead th {\n",
       "        text-align: right;\n",
       "    }\n",
       "</style>\n",
       "<table border=\"1\" class=\"dataframe\">\n",
       "  <thead>\n",
       "    <tr style=\"text-align: right;\">\n",
       "      <th></th>\n",
       "      <th>customer_ID</th>\n",
       "      <th>S_2</th>\n",
       "      <th>D_48</th>\n",
       "      <th>B_18</th>\n",
       "      <th>B_2</th>\n",
       "      <th>B_9</th>\n",
       "      <th>D_44</th>\n",
       "      <th>D_75</th>\n",
       "      <th>R_1</th>\n",
       "      <th>S_7</th>\n",
       "      <th>S_3</th>\n",
       "    </tr>\n",
       "  </thead>\n",
       "  <tbody>\n",
       "    <tr>\n",
       "      <th>0</th>\n",
       "      <td>0000099d6bd597052cdcda90ffabf56573fe9d7c79be5f...</td>\n",
       "      <td>2017-03-09</td>\n",
       "      <td>0.255615</td>\n",
       "      <td>0.652832</td>\n",
       "      <td>1.006836</td>\n",
       "      <td>0.008209</td>\n",
       "      <td>0.000630</td>\n",
       "      <td>0.069092</td>\n",
       "      <td>0.009224</td>\n",
       "      <td>0.161377</td>\n",
       "      <td>0.124023</td>\n",
       "    </tr>\n",
       "    <tr>\n",
       "      <th>1</th>\n",
       "      <td>0000099d6bd597052cdcda90ffabf56573fe9d7c79be5f...</td>\n",
       "      <td>2017-04-07</td>\n",
       "      <td>0.223389</td>\n",
       "      <td>0.646973</td>\n",
       "      <td>1.000977</td>\n",
       "      <td>0.008369</td>\n",
       "      <td>0.002525</td>\n",
       "      <td>0.074158</td>\n",
       "      <td>0.006153</td>\n",
       "      <td>0.140991</td>\n",
       "      <td>0.126709</td>\n",
       "    </tr>\n",
       "    <tr>\n",
       "      <th>2</th>\n",
       "      <td>0000099d6bd597052cdcda90ffabf56573fe9d7c79be5f...</td>\n",
       "      <td>2017-05-28</td>\n",
       "      <td>0.189453</td>\n",
       "      <td>0.645996</td>\n",
       "      <td>1.009766</td>\n",
       "      <td>0.009354</td>\n",
       "      <td>0.007607</td>\n",
       "      <td>0.076538</td>\n",
       "      <td>0.006817</td>\n",
       "      <td>0.112244</td>\n",
       "      <td>0.123962</td>\n",
       "    </tr>\n",
       "    <tr>\n",
       "      <th>3</th>\n",
       "      <td>0000099d6bd597052cdcda90ffabf56573fe9d7c79be5f...</td>\n",
       "      <td>2017-06-13</td>\n",
       "      <td>0.135620</td>\n",
       "      <td>0.654297</td>\n",
       "      <td>1.002930</td>\n",
       "      <td>0.006783</td>\n",
       "      <td>0.006405</td>\n",
       "      <td>0.071533</td>\n",
       "      <td>0.001372</td>\n",
       "      <td>0.102844</td>\n",
       "      <td>0.117188</td>\n",
       "    </tr>\n",
       "    <tr>\n",
       "      <th>4</th>\n",
       "      <td>0000099d6bd597052cdcda90ffabf56573fe9d7c79be5f...</td>\n",
       "      <td>2017-07-16</td>\n",
       "      <td>NaN</td>\n",
       "      <td>0.649902</td>\n",
       "      <td>1.000977</td>\n",
       "      <td>0.000519</td>\n",
       "      <td>0.007732</td>\n",
       "      <td>0.074463</td>\n",
       "      <td>0.007607</td>\n",
       "      <td>0.094299</td>\n",
       "      <td>0.117310</td>\n",
       "    </tr>\n",
       "  </tbody>\n",
       "</table>\n",
       "</div>"
      ],
      "text/plain": [
       "                                         customer_ID         S_2      D_48  \\\n",
       "0  0000099d6bd597052cdcda90ffabf56573fe9d7c79be5f...  2017-03-09  0.255615   \n",
       "1  0000099d6bd597052cdcda90ffabf56573fe9d7c79be5f...  2017-04-07  0.223389   \n",
       "2  0000099d6bd597052cdcda90ffabf56573fe9d7c79be5f...  2017-05-28  0.189453   \n",
       "3  0000099d6bd597052cdcda90ffabf56573fe9d7c79be5f...  2017-06-13  0.135620   \n",
       "4  0000099d6bd597052cdcda90ffabf56573fe9d7c79be5f...  2017-07-16       NaN   \n",
       "\n",
       "       B_18       B_2       B_9      D_44      D_75       R_1       S_7  \\\n",
       "0  0.652832  1.006836  0.008209  0.000630  0.069092  0.009224  0.161377   \n",
       "1  0.646973  1.000977  0.008369  0.002525  0.074158  0.006153  0.140991   \n",
       "2  0.645996  1.009766  0.009354  0.007607  0.076538  0.006817  0.112244   \n",
       "3  0.654297  1.002930  0.006783  0.006405  0.071533  0.001372  0.102844   \n",
       "4  0.649902  1.000977  0.000519  0.007732  0.074463  0.007607  0.094299   \n",
       "\n",
       "        S_3  \n",
       "0  0.124023  \n",
       "1  0.126709  \n",
       "2  0.123962  \n",
       "3  0.117188  \n",
       "4  0.117310  "
      ]
     },
     "execution_count": 6,
     "metadata": {},
     "output_type": "execute_result"
    }
   ],
   "source": [
    "train_data_2 = train_data[[\"customer_ID\",\"S_2\",\"D_48\", 'B_18','B_2', 'B_9','D_44','D_75','R_1','S_7','S_3']]\n",
    "train_data_2.head()"
   ]
  },
  {
   "cell_type": "code",
   "execution_count": 9,
   "id": "5f0cd9e5",
   "metadata": {},
   "outputs": [
    {
     "data": {
      "text/html": [
       "<div>\n",
       "<style scoped>\n",
       "    .dataframe tbody tr th:only-of-type {\n",
       "        vertical-align: middle;\n",
       "    }\n",
       "\n",
       "    .dataframe tbody tr th {\n",
       "        vertical-align: top;\n",
       "    }\n",
       "\n",
       "    .dataframe thead th {\n",
       "        text-align: right;\n",
       "    }\n",
       "</style>\n",
       "<table border=\"1\" class=\"dataframe\">\n",
       "  <thead>\n",
       "    <tr style=\"text-align: right;\">\n",
       "      <th></th>\n",
       "      <th>customer_ID</th>\n",
       "      <th>S_2</th>\n",
       "      <th>D_48</th>\n",
       "      <th>B_18</th>\n",
       "      <th>B_2</th>\n",
       "      <th>B_9</th>\n",
       "      <th>D_44</th>\n",
       "      <th>D_75</th>\n",
       "      <th>R_1</th>\n",
       "      <th>S_7</th>\n",
       "      <th>S_3</th>\n",
       "    </tr>\n",
       "  </thead>\n",
       "  <tbody>\n",
       "    <tr>\n",
       "      <th>12</th>\n",
       "      <td>0000099d6bd597052cdcda90ffabf56573fe9d7c79be5f...</td>\n",
       "      <td>2018-03-13</td>\n",
       "      <td>0.192383</td>\n",
       "      <td>1.007812</td>\n",
       "      <td>1.007812</td>\n",
       "      <td>0.009537</td>\n",
       "      <td>0.003258</td>\n",
       "      <td>0.001352</td>\n",
       "      <td>0.006104</td>\n",
       "      <td>0.105652</td>\n",
       "      <td>0.135010</td>\n",
       "    </tr>\n",
       "    <tr>\n",
       "      <th>11</th>\n",
       "      <td>0000099d6bd597052cdcda90ffabf56573fe9d7c79be5f...</td>\n",
       "      <td>2018-02-21</td>\n",
       "      <td>0.237183</td>\n",
       "      <td>1.004883</td>\n",
       "      <td>1.008789</td>\n",
       "      <td>0.001063</td>\n",
       "      <td>0.005108</td>\n",
       "      <td>0.009682</td>\n",
       "      <td>0.000607</td>\n",
       "      <td>0.077332</td>\n",
       "      <td>0.102966</td>\n",
       "    </tr>\n",
       "    <tr>\n",
       "      <th>10</th>\n",
       "      <td>0000099d6bd597052cdcda90ffabf56573fe9d7c79be5f...</td>\n",
       "      <td>2018-01-11</td>\n",
       "      <td>0.325684</td>\n",
       "      <td>1.006836</td>\n",
       "      <td>1.004883</td>\n",
       "      <td>0.006718</td>\n",
       "      <td>0.002390</td>\n",
       "      <td>0.009895</td>\n",
       "      <td>0.008179</td>\n",
       "      <td>0.078369</td>\n",
       "      <td>0.098877</td>\n",
       "    </tr>\n",
       "    <tr>\n",
       "      <th>9</th>\n",
       "      <td>0000099d6bd597052cdcda90ffabf56573fe9d7c79be5f...</td>\n",
       "      <td>2017-12-04</td>\n",
       "      <td>0.403564</td>\n",
       "      <td>1.007812</td>\n",
       "      <td>1.007812</td>\n",
       "      <td>0.007080</td>\n",
       "      <td>0.007595</td>\n",
       "      <td>0.004539</td>\n",
       "      <td>0.001772</td>\n",
       "      <td>0.074646</td>\n",
       "      <td>0.100464</td>\n",
       "    </tr>\n",
       "    <tr>\n",
       "      <th>8</th>\n",
       "      <td>0000099d6bd597052cdcda90ffabf56573fe9d7c79be5f...</td>\n",
       "      <td>2017-11-20</td>\n",
       "      <td>0.189331</td>\n",
       "      <td>1.007812</td>\n",
       "      <td>1.003906</td>\n",
       "      <td>0.006821</td>\n",
       "      <td>0.002579</td>\n",
       "      <td>0.000035</td>\n",
       "      <td>0.001789</td>\n",
       "      <td>0.077209</td>\n",
       "      <td>0.102783</td>\n",
       "    </tr>\n",
       "  </tbody>\n",
       "</table>\n",
       "</div>"
      ],
      "text/plain": [
       "                                          customer_ID         S_2      D_48  \\\n",
       "12  0000099d6bd597052cdcda90ffabf56573fe9d7c79be5f...  2018-03-13  0.192383   \n",
       "11  0000099d6bd597052cdcda90ffabf56573fe9d7c79be5f...  2018-02-21  0.237183   \n",
       "10  0000099d6bd597052cdcda90ffabf56573fe9d7c79be5f...  2018-01-11  0.325684   \n",
       "9   0000099d6bd597052cdcda90ffabf56573fe9d7c79be5f...  2017-12-04  0.403564   \n",
       "8   0000099d6bd597052cdcda90ffabf56573fe9d7c79be5f...  2017-11-20  0.189331   \n",
       "\n",
       "        B_18       B_2       B_9      D_44      D_75       R_1       S_7  \\\n",
       "12  1.007812  1.007812  0.009537  0.003258  0.001352  0.006104  0.105652   \n",
       "11  1.004883  1.008789  0.001063  0.005108  0.009682  0.000607  0.077332   \n",
       "10  1.006836  1.004883  0.006718  0.002390  0.009895  0.008179  0.078369   \n",
       "9   1.007812  1.007812  0.007080  0.007595  0.004539  0.001772  0.074646   \n",
       "8   1.007812  1.003906  0.006821  0.002579  0.000035  0.001789  0.077209   \n",
       "\n",
       "         S_3  \n",
       "12  0.135010  \n",
       "11  0.102966  \n",
       "10  0.098877  \n",
       "9   0.100464  \n",
       "8   0.102783  "
      ]
     },
     "execution_count": 9,
     "metadata": {},
     "output_type": "execute_result"
    }
   ],
   "source": [
    "train_data_3 = train_data_2.sort_values(['customer_ID', 'S_2'], ascending = [True, False])\n",
    "train_data_3.head()"
   ]
  },
  {
   "cell_type": "code",
   "execution_count": 11,
   "id": "35ab080f",
   "metadata": {},
   "outputs": [
    {
     "data": {
      "text/html": [
       "<div>\n",
       "<style scoped>\n",
       "    .dataframe tbody tr th:only-of-type {\n",
       "        vertical-align: middle;\n",
       "    }\n",
       "\n",
       "    .dataframe tbody tr th {\n",
       "        vertical-align: top;\n",
       "    }\n",
       "\n",
       "    .dataframe thead th {\n",
       "        text-align: right;\n",
       "    }\n",
       "</style>\n",
       "<table border=\"1\" class=\"dataframe\">\n",
       "  <thead>\n",
       "    <tr style=\"text-align: right;\">\n",
       "      <th></th>\n",
       "      <th>customer_ID</th>\n",
       "      <th>S_2</th>\n",
       "      <th>D_48</th>\n",
       "      <th>B_18</th>\n",
       "      <th>B_2</th>\n",
       "      <th>B_9</th>\n",
       "      <th>D_44</th>\n",
       "      <th>D_75</th>\n",
       "      <th>R_1</th>\n",
       "      <th>S_7</th>\n",
       "      <th>S_3</th>\n",
       "    </tr>\n",
       "  </thead>\n",
       "  <tbody>\n",
       "    <tr>\n",
       "      <th>12</th>\n",
       "      <td>0000099d6bd597052cdcda90ffabf56573fe9d7c79be5f...</td>\n",
       "      <td>2018-03-13</td>\n",
       "      <td>0.192383</td>\n",
       "      <td>1.007812</td>\n",
       "      <td>1.007812</td>\n",
       "      <td>0.009537</td>\n",
       "      <td>0.003258</td>\n",
       "      <td>0.001352</td>\n",
       "      <td>0.006104</td>\n",
       "      <td>0.105652</td>\n",
       "      <td>0.135010</td>\n",
       "    </tr>\n",
       "    <tr>\n",
       "      <th>25</th>\n",
       "      <td>00000fd6641609c6ece5454664794f0340ad84dddce9a2...</td>\n",
       "      <td>2018-03-25</td>\n",
       "      <td>0.014694</td>\n",
       "      <td>1.003906</td>\n",
       "      <td>1.003906</td>\n",
       "      <td>0.012924</td>\n",
       "      <td>0.008781</td>\n",
       "      <td>0.009598</td>\n",
       "      <td>0.006912</td>\n",
       "      <td>0.208496</td>\n",
       "      <td>0.165527</td>\n",
       "    </tr>\n",
       "    <tr>\n",
       "      <th>38</th>\n",
       "      <td>00001b22f846c82c51f6e3958ccd81970162bae8b007e8...</td>\n",
       "      <td>2018-03-12</td>\n",
       "      <td>0.080383</td>\n",
       "      <td>1.003906</td>\n",
       "      <td>0.812500</td>\n",
       "      <td>0.009392</td>\n",
       "      <td>0.000628</td>\n",
       "      <td>0.003328</td>\n",
       "      <td>0.006451</td>\n",
       "      <td>NaN</td>\n",
       "      <td>NaN</td>\n",
       "    </tr>\n",
       "    <tr>\n",
       "      <th>51</th>\n",
       "      <td>000041bdba6ecadd89a52d11886e8eaaec9325906c9723...</td>\n",
       "      <td>2018-03-29</td>\n",
       "      <td>NaN</td>\n",
       "      <td>1.006836</td>\n",
       "      <td>1.005859</td>\n",
       "      <td>0.020523</td>\n",
       "      <td>0.007793</td>\n",
       "      <td>0.005505</td>\n",
       "      <td>0.007828</td>\n",
       "      <td>0.279541</td>\n",
       "      <td>0.287842</td>\n",
       "    </tr>\n",
       "    <tr>\n",
       "      <th>64</th>\n",
       "      <td>00007889e4fcd2614b6cbe7f8f3d2e5c728eca32d9eb8a...</td>\n",
       "      <td>2018-03-30</td>\n",
       "      <td>0.325195</td>\n",
       "      <td>0.531250</td>\n",
       "      <td>0.815918</td>\n",
       "      <td>0.004028</td>\n",
       "      <td>0.002436</td>\n",
       "      <td>0.142578</td>\n",
       "      <td>0.001247</td>\n",
       "      <td>NaN</td>\n",
       "      <td>NaN</td>\n",
       "    </tr>\n",
       "  </tbody>\n",
       "</table>\n",
       "</div>"
      ],
      "text/plain": [
       "                                          customer_ID         S_2      D_48  \\\n",
       "12  0000099d6bd597052cdcda90ffabf56573fe9d7c79be5f...  2018-03-13  0.192383   \n",
       "25  00000fd6641609c6ece5454664794f0340ad84dddce9a2...  2018-03-25  0.014694   \n",
       "38  00001b22f846c82c51f6e3958ccd81970162bae8b007e8...  2018-03-12  0.080383   \n",
       "51  000041bdba6ecadd89a52d11886e8eaaec9325906c9723...  2018-03-29       NaN   \n",
       "64  00007889e4fcd2614b6cbe7f8f3d2e5c728eca32d9eb8a...  2018-03-30  0.325195   \n",
       "\n",
       "        B_18       B_2       B_9      D_44      D_75       R_1       S_7  \\\n",
       "12  1.007812  1.007812  0.009537  0.003258  0.001352  0.006104  0.105652   \n",
       "25  1.003906  1.003906  0.012924  0.008781  0.009598  0.006912  0.208496   \n",
       "38  1.003906  0.812500  0.009392  0.000628  0.003328  0.006451       NaN   \n",
       "51  1.006836  1.005859  0.020523  0.007793  0.005505  0.007828  0.279541   \n",
       "64  0.531250  0.815918  0.004028  0.002436  0.142578  0.001247       NaN   \n",
       "\n",
       "         S_3  \n",
       "12  0.135010  \n",
       "25  0.165527  \n",
       "38       NaN  \n",
       "51  0.287842  \n",
       "64       NaN  "
      ]
     },
     "execution_count": 11,
     "metadata": {},
     "output_type": "execute_result"
    }
   ],
   "source": [
    "train_data_4 = train_data_3.drop_duplicates(subset=[\"customer_ID\"], keep=\"first\")\n",
    "train_data_4.head()"
   ]
  },
  {
   "cell_type": "code",
   "execution_count": 17,
   "id": "13350ae0",
   "metadata": {},
   "outputs": [
    {
     "data": {
      "text/plain": [
       "(458913, 11)"
      ]
     },
     "execution_count": 17,
     "metadata": {},
     "output_type": "execute_result"
    }
   ],
   "source": [
    "train_data_4.shape"
   ]
  },
  {
   "cell_type": "code",
   "execution_count": 12,
   "id": "70791fbb",
   "metadata": {},
   "outputs": [
    {
     "data": {
      "text/html": [
       "<div>\n",
       "<style scoped>\n",
       "    .dataframe tbody tr th:only-of-type {\n",
       "        vertical-align: middle;\n",
       "    }\n",
       "\n",
       "    .dataframe tbody tr th {\n",
       "        vertical-align: top;\n",
       "    }\n",
       "\n",
       "    .dataframe thead th {\n",
       "        text-align: right;\n",
       "    }\n",
       "</style>\n",
       "<table border=\"1\" class=\"dataframe\">\n",
       "  <thead>\n",
       "    <tr style=\"text-align: right;\">\n",
       "      <th></th>\n",
       "      <th>customer_ID</th>\n",
       "      <th>target</th>\n",
       "    </tr>\n",
       "  </thead>\n",
       "  <tbody>\n",
       "    <tr>\n",
       "      <th>0</th>\n",
       "      <td>0000099d6bd597052cdcda90ffabf56573fe9d7c79be5f...</td>\n",
       "      <td>0</td>\n",
       "    </tr>\n",
       "    <tr>\n",
       "      <th>1</th>\n",
       "      <td>00000fd6641609c6ece5454664794f0340ad84dddce9a2...</td>\n",
       "      <td>0</td>\n",
       "    </tr>\n",
       "    <tr>\n",
       "      <th>2</th>\n",
       "      <td>00001b22f846c82c51f6e3958ccd81970162bae8b007e8...</td>\n",
       "      <td>0</td>\n",
       "    </tr>\n",
       "    <tr>\n",
       "      <th>3</th>\n",
       "      <td>000041bdba6ecadd89a52d11886e8eaaec9325906c9723...</td>\n",
       "      <td>0</td>\n",
       "    </tr>\n",
       "    <tr>\n",
       "      <th>4</th>\n",
       "      <td>00007889e4fcd2614b6cbe7f8f3d2e5c728eca32d9eb8a...</td>\n",
       "      <td>0</td>\n",
       "    </tr>\n",
       "  </tbody>\n",
       "</table>\n",
       "</div>"
      ],
      "text/plain": [
       "                                         customer_ID  target\n",
       "0  0000099d6bd597052cdcda90ffabf56573fe9d7c79be5f...       0\n",
       "1  00000fd6641609c6ece5454664794f0340ad84dddce9a2...       0\n",
       "2  00001b22f846c82c51f6e3958ccd81970162bae8b007e8...       0\n",
       "3  000041bdba6ecadd89a52d11886e8eaaec9325906c9723...       0\n",
       "4  00007889e4fcd2614b6cbe7f8f3d2e5c728eca32d9eb8a...       0"
      ]
     },
     "execution_count": 12,
     "metadata": {},
     "output_type": "execute_result"
    }
   ],
   "source": [
    "train_data_label = pd.read_csv(\"train_labels.csv\")\n",
    "train_data_label.head()"
   ]
  },
  {
   "cell_type": "code",
   "execution_count": 13,
   "id": "3f24ec1b",
   "metadata": {},
   "outputs": [],
   "source": [
    "train_data_final = pd.merge(train_data_4,train_data_label,how=\"left\",on=\"customer_ID\")"
   ]
  },
  {
   "cell_type": "code",
   "execution_count": 14,
   "id": "19521888",
   "metadata": {},
   "outputs": [
    {
     "data": {
      "text/html": [
       "<div>\n",
       "<style scoped>\n",
       "    .dataframe tbody tr th:only-of-type {\n",
       "        vertical-align: middle;\n",
       "    }\n",
       "\n",
       "    .dataframe tbody tr th {\n",
       "        vertical-align: top;\n",
       "    }\n",
       "\n",
       "    .dataframe thead th {\n",
       "        text-align: right;\n",
       "    }\n",
       "</style>\n",
       "<table border=\"1\" class=\"dataframe\">\n",
       "  <thead>\n",
       "    <tr style=\"text-align: right;\">\n",
       "      <th></th>\n",
       "      <th>customer_ID</th>\n",
       "      <th>S_2</th>\n",
       "      <th>D_48</th>\n",
       "      <th>B_18</th>\n",
       "      <th>B_2</th>\n",
       "      <th>B_9</th>\n",
       "      <th>D_44</th>\n",
       "      <th>D_75</th>\n",
       "      <th>R_1</th>\n",
       "      <th>S_7</th>\n",
       "      <th>S_3</th>\n",
       "      <th>target</th>\n",
       "    </tr>\n",
       "  </thead>\n",
       "  <tbody>\n",
       "    <tr>\n",
       "      <th>0</th>\n",
       "      <td>0000099d6bd597052cdcda90ffabf56573fe9d7c79be5f...</td>\n",
       "      <td>2018-03-13</td>\n",
       "      <td>0.192383</td>\n",
       "      <td>1.007812</td>\n",
       "      <td>1.007812</td>\n",
       "      <td>0.009537</td>\n",
       "      <td>0.003258</td>\n",
       "      <td>0.001352</td>\n",
       "      <td>0.006104</td>\n",
       "      <td>0.105652</td>\n",
       "      <td>0.135010</td>\n",
       "      <td>0</td>\n",
       "    </tr>\n",
       "    <tr>\n",
       "      <th>1</th>\n",
       "      <td>00000fd6641609c6ece5454664794f0340ad84dddce9a2...</td>\n",
       "      <td>2018-03-25</td>\n",
       "      <td>0.014694</td>\n",
       "      <td>1.003906</td>\n",
       "      <td>1.003906</td>\n",
       "      <td>0.012924</td>\n",
       "      <td>0.008781</td>\n",
       "      <td>0.009598</td>\n",
       "      <td>0.006912</td>\n",
       "      <td>0.208496</td>\n",
       "      <td>0.165527</td>\n",
       "      <td>0</td>\n",
       "    </tr>\n",
       "    <tr>\n",
       "      <th>2</th>\n",
       "      <td>00001b22f846c82c51f6e3958ccd81970162bae8b007e8...</td>\n",
       "      <td>2018-03-12</td>\n",
       "      <td>0.080383</td>\n",
       "      <td>1.003906</td>\n",
       "      <td>0.812500</td>\n",
       "      <td>0.009392</td>\n",
       "      <td>0.000628</td>\n",
       "      <td>0.003328</td>\n",
       "      <td>0.006451</td>\n",
       "      <td>NaN</td>\n",
       "      <td>NaN</td>\n",
       "      <td>0</td>\n",
       "    </tr>\n",
       "    <tr>\n",
       "      <th>3</th>\n",
       "      <td>000041bdba6ecadd89a52d11886e8eaaec9325906c9723...</td>\n",
       "      <td>2018-03-29</td>\n",
       "      <td>NaN</td>\n",
       "      <td>1.006836</td>\n",
       "      <td>1.005859</td>\n",
       "      <td>0.020523</td>\n",
       "      <td>0.007793</td>\n",
       "      <td>0.005505</td>\n",
       "      <td>0.007828</td>\n",
       "      <td>0.279541</td>\n",
       "      <td>0.287842</td>\n",
       "      <td>0</td>\n",
       "    </tr>\n",
       "    <tr>\n",
       "      <th>4</th>\n",
       "      <td>00007889e4fcd2614b6cbe7f8f3d2e5c728eca32d9eb8a...</td>\n",
       "      <td>2018-03-30</td>\n",
       "      <td>0.325195</td>\n",
       "      <td>0.531250</td>\n",
       "      <td>0.815918</td>\n",
       "      <td>0.004028</td>\n",
       "      <td>0.002436</td>\n",
       "      <td>0.142578</td>\n",
       "      <td>0.001247</td>\n",
       "      <td>NaN</td>\n",
       "      <td>NaN</td>\n",
       "      <td>0</td>\n",
       "    </tr>\n",
       "  </tbody>\n",
       "</table>\n",
       "</div>"
      ],
      "text/plain": [
       "                                         customer_ID         S_2      D_48  \\\n",
       "0  0000099d6bd597052cdcda90ffabf56573fe9d7c79be5f...  2018-03-13  0.192383   \n",
       "1  00000fd6641609c6ece5454664794f0340ad84dddce9a2...  2018-03-25  0.014694   \n",
       "2  00001b22f846c82c51f6e3958ccd81970162bae8b007e8...  2018-03-12  0.080383   \n",
       "3  000041bdba6ecadd89a52d11886e8eaaec9325906c9723...  2018-03-29       NaN   \n",
       "4  00007889e4fcd2614b6cbe7f8f3d2e5c728eca32d9eb8a...  2018-03-30  0.325195   \n",
       "\n",
       "       B_18       B_2       B_9      D_44      D_75       R_1       S_7  \\\n",
       "0  1.007812  1.007812  0.009537  0.003258  0.001352  0.006104  0.105652   \n",
       "1  1.003906  1.003906  0.012924  0.008781  0.009598  0.006912  0.208496   \n",
       "2  1.003906  0.812500  0.009392  0.000628  0.003328  0.006451       NaN   \n",
       "3  1.006836  1.005859  0.020523  0.007793  0.005505  0.007828  0.279541   \n",
       "4  0.531250  0.815918  0.004028  0.002436  0.142578  0.001247       NaN   \n",
       "\n",
       "        S_3  target  \n",
       "0  0.135010       0  \n",
       "1  0.165527       0  \n",
       "2       NaN       0  \n",
       "3  0.287842       0  \n",
       "4       NaN       0  "
      ]
     },
     "execution_count": 14,
     "metadata": {},
     "output_type": "execute_result"
    }
   ],
   "source": [
    "train_data_final.head()"
   ]
  },
  {
   "cell_type": "code",
   "execution_count": 15,
   "id": "22f10d16",
   "metadata": {},
   "outputs": [],
   "source": [
    "from sklearn.linear_model import LogisticRegression\n",
    "from sklearn import metrics"
   ]
  },
  {
   "cell_type": "code",
   "execution_count": 16,
   "id": "344d6dc2",
   "metadata": {},
   "outputs": [
    {
     "data": {
      "text/plain": [
       "customer_ID        0\n",
       "S_2                0\n",
       "D_48           57992\n",
       "B_18               0\n",
       "B_2               31\n",
       "B_9                0\n",
       "D_44           22295\n",
       "D_75               0\n",
       "R_1                0\n",
       "S_7            84970\n",
       "dtype: int64"
      ]
     },
     "execution_count": 16,
     "metadata": {},
     "output_type": "execute_result"
    }
   ],
   "source": [
    "X_train = train_data_final[[\"customer_ID\", \"S_2\", \"D_48\",'B_18','B_2', 'B_9','D_44','D_75','R_1','S_7']]\n",
    "X_train.isnull().sum()"
   ]
  },
  {
   "cell_type": "code",
   "execution_count": 66,
   "id": "1758e9a9",
   "metadata": {},
   "outputs": [],
   "source": [
    "D_48_raw = X_train[[\"D_48\"]]\n",
    "D_48 = D_48_raw.dropna()\n",
    "D_48_new = D_48_raw.fillna(D_48.median(axis=0))\n",
    "\n",
    "B_2_raw = X_train[[\"B_2\"]]\n",
    "B_2 = B_2_raw.dropna()\n",
    "B_2_new = B_2_raw.fillna(B_2.median(axis=0))\n",
    "\n",
    "D_44_raw = X_train[[\"D_44\"]]\n",
    "D_44 = D_44_raw.dropna()\n",
    "D_44_new = D_44_raw.fillna(D_44.median(axis=0))\n",
    "\n",
    "S_7_raw = X_train[[\"S_7\"]]\n",
    "S_7 = S_7_raw.dropna()\n",
    "S_7_new = S_7_raw.fillna(S_7.median(axis=0))"
   ]
  },
  {
   "cell_type": "code",
   "execution_count": 74,
   "id": "f5e3c77f",
   "metadata": {},
   "outputs": [
    {
     "name": "stderr",
     "output_type": "stream",
     "text": [
      "/tmp/ipykernel_5555/1326217813.py:2: SettingWithCopyWarning: \n",
      "A value is trying to be set on a copy of a slice from a DataFrame.\n",
      "Try using .loc[row_indexer,col_indexer] = value instead\n",
      "\n",
      "See the caveats in the documentation: https://pandas.pydata.org/pandas-docs/stable/user_guide/indexing.html#returning-a-view-versus-a-copy\n",
      "  X_train_2[\"D_48\"] = D_48_new * 1.00\n",
      "/tmp/ipykernel_5555/1326217813.py:3: SettingWithCopyWarning: \n",
      "A value is trying to be set on a copy of a slice from a DataFrame.\n",
      "Try using .loc[row_indexer,col_indexer] = value instead\n",
      "\n",
      "See the caveats in the documentation: https://pandas.pydata.org/pandas-docs/stable/user_guide/indexing.html#returning-a-view-versus-a-copy\n",
      "  X_train_2[\"B_2\"] = B_2_new * 1.00\n",
      "/tmp/ipykernel_5555/1326217813.py:4: SettingWithCopyWarning: \n",
      "A value is trying to be set on a copy of a slice from a DataFrame.\n",
      "Try using .loc[row_indexer,col_indexer] = value instead\n",
      "\n",
      "See the caveats in the documentation: https://pandas.pydata.org/pandas-docs/stable/user_guide/indexing.html#returning-a-view-versus-a-copy\n",
      "  X_train_2[\"D_44\"] = D_44_new * 1.00\n",
      "/tmp/ipykernel_5555/1326217813.py:5: SettingWithCopyWarning: \n",
      "A value is trying to be set on a copy of a slice from a DataFrame.\n",
      "Try using .loc[row_indexer,col_indexer] = value instead\n",
      "\n",
      "See the caveats in the documentation: https://pandas.pydata.org/pandas-docs/stable/user_guide/indexing.html#returning-a-view-versus-a-copy\n",
      "  X_train_2[\"S_7\"] = S_7_new * 1.00\n"
     ]
    },
    {
     "data": {
      "text/plain": [
       "customer_ID    0\n",
       "B_18           0\n",
       "B_9            0\n",
       "D_75           0\n",
       "R_1            0\n",
       "D_48           0\n",
       "B_2            0\n",
       "D_44           0\n",
       "S_7            0\n",
       "dtype: int64"
      ]
     },
     "execution_count": 74,
     "metadata": {},
     "output_type": "execute_result"
    }
   ],
   "source": [
    "X_train_2 = train_data_final[[\"customer_ID\",'B_18','B_9','D_75','R_1']]\n",
    "X_train_2[\"D_48\"] = D_48_new * 1.00\n",
    "X_train_2[\"B_2\"] = B_2_new * 1.00\n",
    "X_train_2[\"D_44\"] = D_44_new * 1.00\n",
    "X_train_2[\"S_7\"] = S_7_new * 1.00\n",
    "\n",
    "X_train_2.isnull().sum()"
   ]
  },
  {
   "cell_type": "code",
   "execution_count": 77,
   "id": "0b407897",
   "metadata": {},
   "outputs": [
    {
     "name": "stderr",
     "output_type": "stream",
     "text": [
      "/opt/conda/lib/python3.10/site-packages/sklearn/utils/validation.py:1111: DataConversionWarning: A column-vector y was passed when a 1d array was expected. Please change the shape of y to (n_samples, ), for example using ravel().\n",
      "  y = column_or_1d(y, warn=True)\n"
     ]
    },
    {
     "data": {
      "text/html": [
       "<style>#sk-container-id-1 {color: black;background-color: white;}#sk-container-id-1 pre{padding: 0;}#sk-container-id-1 div.sk-toggleable {background-color: white;}#sk-container-id-1 label.sk-toggleable__label {cursor: pointer;display: block;width: 100%;margin-bottom: 0;padding: 0.3em;box-sizing: border-box;text-align: center;}#sk-container-id-1 label.sk-toggleable__label-arrow:before {content: \"▸\";float: left;margin-right: 0.25em;color: #696969;}#sk-container-id-1 label.sk-toggleable__label-arrow:hover:before {color: black;}#sk-container-id-1 div.sk-estimator:hover label.sk-toggleable__label-arrow:before {color: black;}#sk-container-id-1 div.sk-toggleable__content {max-height: 0;max-width: 0;overflow: hidden;text-align: left;background-color: #f0f8ff;}#sk-container-id-1 div.sk-toggleable__content pre {margin: 0.2em;color: black;border-radius: 0.25em;background-color: #f0f8ff;}#sk-container-id-1 input.sk-toggleable__control:checked~div.sk-toggleable__content {max-height: 200px;max-width: 100%;overflow: auto;}#sk-container-id-1 input.sk-toggleable__control:checked~label.sk-toggleable__label-arrow:before {content: \"▾\";}#sk-container-id-1 div.sk-estimator input.sk-toggleable__control:checked~label.sk-toggleable__label {background-color: #d4ebff;}#sk-container-id-1 div.sk-label input.sk-toggleable__control:checked~label.sk-toggleable__label {background-color: #d4ebff;}#sk-container-id-1 input.sk-hidden--visually {border: 0;clip: rect(1px 1px 1px 1px);clip: rect(1px, 1px, 1px, 1px);height: 1px;margin: -1px;overflow: hidden;padding: 0;position: absolute;width: 1px;}#sk-container-id-1 div.sk-estimator {font-family: monospace;background-color: #f0f8ff;border: 1px dotted black;border-radius: 0.25em;box-sizing: border-box;margin-bottom: 0.5em;}#sk-container-id-1 div.sk-estimator:hover {background-color: #d4ebff;}#sk-container-id-1 div.sk-parallel-item::after {content: \"\";width: 100%;border-bottom: 1px solid gray;flex-grow: 1;}#sk-container-id-1 div.sk-label:hover label.sk-toggleable__label {background-color: #d4ebff;}#sk-container-id-1 div.sk-serial::before {content: \"\";position: absolute;border-left: 1px solid gray;box-sizing: border-box;top: 0;bottom: 0;left: 50%;z-index: 0;}#sk-container-id-1 div.sk-serial {display: flex;flex-direction: column;align-items: center;background-color: white;padding-right: 0.2em;padding-left: 0.2em;position: relative;}#sk-container-id-1 div.sk-item {position: relative;z-index: 1;}#sk-container-id-1 div.sk-parallel {display: flex;align-items: stretch;justify-content: center;background-color: white;position: relative;}#sk-container-id-1 div.sk-item::before, #sk-container-id-1 div.sk-parallel-item::before {content: \"\";position: absolute;border-left: 1px solid gray;box-sizing: border-box;top: 0;bottom: 0;left: 50%;z-index: -1;}#sk-container-id-1 div.sk-parallel-item {display: flex;flex-direction: column;z-index: 1;position: relative;background-color: white;}#sk-container-id-1 div.sk-parallel-item:first-child::after {align-self: flex-end;width: 50%;}#sk-container-id-1 div.sk-parallel-item:last-child::after {align-self: flex-start;width: 50%;}#sk-container-id-1 div.sk-parallel-item:only-child::after {width: 0;}#sk-container-id-1 div.sk-dashed-wrapped {border: 1px dashed gray;margin: 0 0.4em 0.5em 0.4em;box-sizing: border-box;padding-bottom: 0.4em;background-color: white;}#sk-container-id-1 div.sk-label label {font-family: monospace;font-weight: bold;display: inline-block;line-height: 1.2em;}#sk-container-id-1 div.sk-label-container {text-align: center;}#sk-container-id-1 div.sk-container {/* jupyter's `normalize.less` sets `[hidden] { display: none; }` but bootstrap.min.css set `[hidden] { display: none !important; }` so we also need the `!important` here to be able to override the default hidden behavior on the sphinx rendered scikit-learn.org. See: https://github.com/scikit-learn/scikit-learn/issues/21755 */display: inline-block !important;position: relative;}#sk-container-id-1 div.sk-text-repr-fallback {display: none;}</style><div id=\"sk-container-id-1\" class=\"sk-top-container\"><div class=\"sk-text-repr-fallback\"><pre>LogisticRegression()</pre><b>In a Jupyter environment, please rerun this cell to show the HTML representation or trust the notebook. <br />On GitHub, the HTML representation is unable to render, please try loading this page with nbviewer.org.</b></div><div class=\"sk-container\" hidden><div class=\"sk-item\"><div class=\"sk-estimator sk-toggleable\"><input class=\"sk-toggleable__control sk-hidden--visually\" id=\"sk-estimator-id-1\" type=\"checkbox\" checked><label for=\"sk-estimator-id-1\" class=\"sk-toggleable__label sk-toggleable__label-arrow\">LogisticRegression</label><div class=\"sk-toggleable__content\"><pre>LogisticRegression()</pre></div></div></div></div></div>"
      ],
      "text/plain": [
       "LogisticRegression()"
      ]
     },
     "execution_count": 77,
     "metadata": {},
     "output_type": "execute_result"
    }
   ],
   "source": [
    "X_train_final = X_train_2[[\"D_48\",'B_18','B_2', 'B_9','D_44','D_75','R_1','S_7']]\n",
    "y_train = train_data_final[[\"target\"]]\n",
    "logreg = LogisticRegression()\n",
    "logreg.fit(X_train_final, y_train)"
   ]
  },
  {
   "cell_type": "code",
   "execution_count": 78,
   "id": "98f4b3ed",
   "metadata": {},
   "outputs": [],
   "source": [
    "test_data = pd.read_feather(\"test_data.ftr\")"
   ]
  },
  {
   "cell_type": "code",
   "execution_count": 80,
   "id": "fcd37c19",
   "metadata": {},
   "outputs": [
    {
     "data": {
      "text/plain": [
       "customer_ID         0\n",
       "S_2                 0\n",
       "D_48           116986\n",
       "B_18                0\n",
       "B_2                43\n",
       "B_9                 0\n",
       "D_44            44612\n",
       "D_75                0\n",
       "R_1                 0\n",
       "S_7            144280\n",
       "dtype: int64"
      ]
     },
     "execution_count": 80,
     "metadata": {},
     "output_type": "execute_result"
    }
   ],
   "source": [
    "test_data_1 = test_data[[\"customer_ID\", \"S_2\", \"D_48\",'B_18','B_2', 'B_9','D_44','D_75','R_1','S_7']].sort_values(['customer_ID', 'S_2'], ascending = [True, False])\n",
    "test_data_2 = test_data_1.drop_duplicates(subset=[\"customer_ID\"], keep=\"first\")\n",
    "test_data_2.isnull().sum()\n",
    "\n"
   ]
  },
  {
   "cell_type": "code",
   "execution_count": 99,
   "id": "02fb6967",
   "metadata": {},
   "outputs": [
    {
     "name": "stderr",
     "output_type": "stream",
     "text": [
      "/tmp/ipykernel_5555/3006243694.py:19: SettingWithCopyWarning: \n",
      "A value is trying to be set on a copy of a slice from a DataFrame.\n",
      "Try using .loc[row_indexer,col_indexer] = value instead\n",
      "\n",
      "See the caveats in the documentation: https://pandas.pydata.org/pandas-docs/stable/user_guide/indexing.html#returning-a-view-versus-a-copy\n",
      "  X_test_2[\"D_48\"] = D_48_new * 1.00\n",
      "/tmp/ipykernel_5555/3006243694.py:20: SettingWithCopyWarning: \n",
      "A value is trying to be set on a copy of a slice from a DataFrame.\n",
      "Try using .loc[row_indexer,col_indexer] = value instead\n",
      "\n",
      "See the caveats in the documentation: https://pandas.pydata.org/pandas-docs/stable/user_guide/indexing.html#returning-a-view-versus-a-copy\n",
      "  X_test_2[\"B_2\"] = B_2_new * 1.00\n",
      "/tmp/ipykernel_5555/3006243694.py:21: SettingWithCopyWarning: \n",
      "A value is trying to be set on a copy of a slice from a DataFrame.\n",
      "Try using .loc[row_indexer,col_indexer] = value instead\n",
      "\n",
      "See the caveats in the documentation: https://pandas.pydata.org/pandas-docs/stable/user_guide/indexing.html#returning-a-view-versus-a-copy\n",
      "  X_test_2[\"D_44\"] = D_44_new * 1.00\n",
      "/tmp/ipykernel_5555/3006243694.py:22: SettingWithCopyWarning: \n",
      "A value is trying to be set on a copy of a slice from a DataFrame.\n",
      "Try using .loc[row_indexer,col_indexer] = value instead\n",
      "\n",
      "See the caveats in the documentation: https://pandas.pydata.org/pandas-docs/stable/user_guide/indexing.html#returning-a-view-versus-a-copy\n",
      "  X_test_2[\"S_7\"] = S_7_new * 1.00\n"
     ]
    },
    {
     "data": {
      "text/plain": [
       "(924621, 9)"
      ]
     },
     "execution_count": 99,
     "metadata": {},
     "output_type": "execute_result"
    }
   ],
   "source": [
    "D_48_raw = test_data_2[[\"D_48\"]]\n",
    "D_48 = D_48_raw.dropna()\n",
    "D_48_new = D_48_raw.fillna(D_48.median(axis=0))\n",
    "\n",
    "B_2_raw = test_data_2[[\"B_2\"]]\n",
    "B_2 = B_2_raw.dropna()\n",
    "B_2_new = B_2_raw.fillna(B_2.median(axis=0))\n",
    "\n",
    "D_44_raw = test_data_2[[\"D_44\"]]\n",
    "D_44 = D_44_raw.dropna()\n",
    "D_44_new = D_44_raw.fillna(D_44.median(axis=0))\n",
    "\n",
    "S_7_raw = test_data_2[[\"S_7\"]]\n",
    "S_7 = S_7_raw.dropna()\n",
    "S_7_new = S_7_raw.fillna(S_7.median(axis=0))\n",
    "\n",
    "\n",
    "X_test_2 = test_data_2[[\"customer_ID\",'B_18','B_9','D_75','R_1']]\n",
    "X_test_2[\"D_48\"] = D_48_new * 1.00\n",
    "X_test_2[\"B_2\"] = B_2_new * 1.00\n",
    "X_test_2[\"D_44\"] = D_44_new * 1.00\n",
    "X_test_2[\"S_7\"] = S_7_new * 1.00\n",
    "\n",
    "X_test_2.isnull().sum()\n",
    "X_test_2.shape"
   ]
  },
  {
   "cell_type": "code",
   "execution_count": 113,
   "id": "eeb0a2ed",
   "metadata": {},
   "outputs": [
    {
     "data": {
      "text/plain": [
       "array([[0.93502195, 0.06497805],\n",
       "       [0.9844792 , 0.0155208 ],\n",
       "       [0.92177294, 0.07822706],\n",
       "       ...,\n",
       "       [0.60856408, 0.39143592],\n",
       "       [0.75332518, 0.24667482],\n",
       "       [0.97395238, 0.02604762]])"
      ]
     },
     "execution_count": 113,
     "metadata": {},
     "output_type": "execute_result"
    }
   ],
   "source": [
    "test_out_1 = logreg.predict_proba(X_test_2[[\"D_48\",'B_18','B_2', 'B_9','D_44','D_75','R_1','S_7']])\n",
    "test_out_1"
   ]
  },
  {
   "cell_type": "code",
   "execution_count": 118,
   "id": "8500d886",
   "metadata": {},
   "outputs": [
    {
     "data": {
      "text/html": [
       "<div>\n",
       "<style scoped>\n",
       "    .dataframe tbody tr th:only-of-type {\n",
       "        vertical-align: middle;\n",
       "    }\n",
       "\n",
       "    .dataframe tbody tr th {\n",
       "        vertical-align: top;\n",
       "    }\n",
       "\n",
       "    .dataframe thead th {\n",
       "        text-align: right;\n",
       "    }\n",
       "</style>\n",
       "<table border=\"1\" class=\"dataframe\">\n",
       "  <thead>\n",
       "    <tr style=\"text-align: right;\">\n",
       "      <th></th>\n",
       "      <th>1_minus_pred</th>\n",
       "      <th>prediction</th>\n",
       "    </tr>\n",
       "  </thead>\n",
       "  <tbody>\n",
       "    <tr>\n",
       "      <th>0</th>\n",
       "      <td>0.935022</td>\n",
       "      <td>0.064978</td>\n",
       "    </tr>\n",
       "    <tr>\n",
       "      <th>1</th>\n",
       "      <td>0.984479</td>\n",
       "      <td>0.015521</td>\n",
       "    </tr>\n",
       "    <tr>\n",
       "      <th>2</th>\n",
       "      <td>0.921773</td>\n",
       "      <td>0.078227</td>\n",
       "    </tr>\n",
       "    <tr>\n",
       "      <th>3</th>\n",
       "      <td>0.416488</td>\n",
       "      <td>0.583512</td>\n",
       "    </tr>\n",
       "    <tr>\n",
       "      <th>4</th>\n",
       "      <td>0.147102</td>\n",
       "      <td>0.852898</td>\n",
       "    </tr>\n",
       "  </tbody>\n",
       "</table>\n",
       "</div>"
      ],
      "text/plain": [
       "   1_minus_pred  prediction\n",
       "0      0.935022    0.064978\n",
       "1      0.984479    0.015521\n",
       "2      0.921773    0.078227\n",
       "3      0.416488    0.583512\n",
       "4      0.147102    0.852898"
      ]
     },
     "execution_count": 118,
     "metadata": {},
     "output_type": "execute_result"
    }
   ],
   "source": [
    "test_out_2 = pd.DataFrame(test_out_1,columns=[\"1_minus_pred\",\"prediction\"])"
   ]
  },
  {
   "cell_type": "code",
   "execution_count": 151,
   "id": "57257077",
   "metadata": {},
   "outputs": [
    {
     "data": {
      "text/html": [
       "<div>\n",
       "<style scoped>\n",
       "    .dataframe tbody tr th:only-of-type {\n",
       "        vertical-align: middle;\n",
       "    }\n",
       "\n",
       "    .dataframe tbody tr th {\n",
       "        vertical-align: top;\n",
       "    }\n",
       "\n",
       "    .dataframe thead th {\n",
       "        text-align: right;\n",
       "    }\n",
       "</style>\n",
       "<table border=\"1\" class=\"dataframe\">\n",
       "  <thead>\n",
       "    <tr style=\"text-align: right;\">\n",
       "      <th></th>\n",
       "      <th>customer_ID</th>\n",
       "      <th>prediction</th>\n",
       "    </tr>\n",
       "  </thead>\n",
       "  <tbody>\n",
       "    <tr>\n",
       "      <th>0</th>\n",
       "      <td>00000469ba478561f23a92a868bd366de6f6527a684c9a...</td>\n",
       "      <td>0.064978</td>\n",
       "    </tr>\n",
       "    <tr>\n",
       "      <th>1</th>\n",
       "      <td>00001bf2e77ff879fab36aa4fac689b9ba411dae63ae39...</td>\n",
       "      <td>0.015521</td>\n",
       "    </tr>\n",
       "    <tr>\n",
       "      <th>2</th>\n",
       "      <td>0000210045da4f81e5f122c6bde5c2a617d03eef67f82c...</td>\n",
       "      <td>0.078227</td>\n",
       "    </tr>\n",
       "    <tr>\n",
       "      <th>3</th>\n",
       "      <td>00003b41e58ede33b8daf61ab56d9952f17c9ad1c3976c...</td>\n",
       "      <td>0.583512</td>\n",
       "    </tr>\n",
       "    <tr>\n",
       "      <th>4</th>\n",
       "      <td>00004b22eaeeeb0ec976890c1d9bfc14fd9427e98c4ee9...</td>\n",
       "      <td>0.852898</td>\n",
       "    </tr>\n",
       "  </tbody>\n",
       "</table>\n",
       "</div>"
      ],
      "text/plain": [
       "                                         customer_ID  prediction\n",
       "0  00000469ba478561f23a92a868bd366de6f6527a684c9a...    0.064978\n",
       "1  00001bf2e77ff879fab36aa4fac689b9ba411dae63ae39...    0.015521\n",
       "2  0000210045da4f81e5f122c6bde5c2a617d03eef67f82c...    0.078227\n",
       "3  00003b41e58ede33b8daf61ab56d9952f17c9ad1c3976c...    0.583512\n",
       "4  00004b22eaeeeb0ec976890c1d9bfc14fd9427e98c4ee9...    0.852898"
      ]
     },
     "execution_count": 151,
     "metadata": {},
     "output_type": "execute_result"
    }
   ],
   "source": [
    "cus = X_test_2[\"customer_ID\"].reset_index()\n",
    "pred = test_out_2[\"prediction\"]\n",
    "\n",
    "test_out_3 = pd.concat([cus[\"customer_ID\"],pred],ignore_index=True,axis=1)\n",
    "test_out_3.rename(columns = {0:'customer_ID', 1:'prediction'}, inplace = True)\n",
    "\n",
    "test_out_3.head()"
   ]
  },
  {
   "cell_type": "code",
   "execution_count": 152,
   "id": "078d9c4f",
   "metadata": {},
   "outputs": [],
   "source": [
    "test_out_3.to_csv(\"Submission_Logis_LatestDate_fillna.csv\", index=False)"
   ]
  },
  {
   "cell_type": "code",
   "execution_count": 153,
   "id": "24cc06c6",
   "metadata": {},
   "outputs": [
    {
     "name": "stdout",
     "output_type": "stream",
     "text": [
      "Warning: Your Kaggle API key is readable by other users on this system! To fix this, you can run 'chmod 600 /home/jovyan/.kaggle/kaggle.json'\n",
      "100%|██████████████████████████████████████| 74.9M/74.9M [00:04<00:00, 16.8MB/s]\n",
      "Successfully submitted to American Express - Default Prediction"
     ]
    }
   ],
   "source": [
    "!kaggle competitions submit -c amex-default-prediction -f Submission_Logis_LatestDate_fillna.csv -m \"Message\""
   ]
  },
  {
   "cell_type": "code",
   "execution_count": null,
   "id": "f3da0a41",
   "metadata": {},
   "outputs": [],
   "source": []
  }
 ],
 "metadata": {
  "kernelspec": {
   "display_name": "Python 3 (ipykernel)",
   "language": "python",
   "name": "python3"
  },
  "language_info": {
   "codemirror_mode": {
    "name": "ipython",
    "version": 3
   },
   "file_extension": ".py",
   "mimetype": "text/x-python",
   "name": "python",
   "nbconvert_exporter": "python",
   "pygments_lexer": "ipython3",
   "version": "3.10.5"
  }
 },
 "nbformat": 4,
 "nbformat_minor": 5
}
